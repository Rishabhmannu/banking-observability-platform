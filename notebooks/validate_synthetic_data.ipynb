{
 "cells": [
  {
   "cell_type": "code",
   "execution_count": null,
   "metadata": {},
   "outputs": [],
   "source": [
    "import pandas as pd\n",
    "import numpy as np\n",
    "import matplotlib.pyplot as plt\n",
    "import seaborn as sns\n",
    "\n",
    "# Load generated data\n",
    "data = pd.read_csv('data/synthetic/banking_ddos_dataset_YYYYMMDD_HHMMSS.csv')\n",
    "labels = np.load('data/synthetic/banking_ddos_labels_YYYYMMDD_HHMMSS.npy')\n",
    "\n",
    "# Basic statistics\n",
    "print(\"Dataset Shape:\", data.shape)\n",
    "print(\"Attack Percentage:\", (labels.sum() / len(labels)) * 100, \"%\")\n",
    "\n",
    "# Visualize patterns\n",
    "fig, axes = plt.subplots(2, 2, figsize=(15, 10))\n",
    "\n",
    "# Request rate over time\n",
    "axes[0, 0].plot(data['api_request_rate'], alpha=0.7)\n",
    "axes[0, 0].scatter(np.where(labels == 1)[0], data.iloc[np.where(labels == 1)[0]]['api_request_rate'],\n",
    "                   color='red', alpha=0.5, s=1)\n",
    "axes[0, 0].set_title('API Request Rate (Red = Attacks)')\n",
    "\n",
    "# Error rate over time\n",
    "axes[0, 1].plot(data['api_error_rate'], alpha=0.7)\n",
    "axes[0, 1].scatter(np.where(labels == 1)[0], data.iloc[np.where(labels == 1)[0]]['api_error_rate'],\n",
    "                   color='red', alpha=0.5, s=1)\n",
    "axes[0, 1].set_title('API Error Rate (Red = Attacks)')\n",
    "\n",
    "# Response time patterns\n",
    "axes[1, 0].plot(data['api_response_time_p95'], alpha=0.7)\n",
    "axes[1, 0].scatter(np.where(labels == 1)[0], data.iloc[np.where(labels == 1)[0]]['api_response_time_p95'],\n",
    "                   color='red', alpha=0.5, s=1)\n",
    "axes[1, 0].set_title('API Response Time P95 (Red = Attacks)')\n",
    "\n",
    "# CPU usage patterns\n",
    "axes[1, 1].plot(data['cpu_usage_percent'], alpha=0.7)\n",
    "axes[1, 1].scatter(np.where(labels == 1)[0], data.iloc[np.where(labels == 1)[0]]['cpu_usage_percent'],\n",
    "                   color='red', alpha=0.5, s=1)\n",
    "axes[1, 1].set_title('CPU Usage % (Red = Attacks)')\n",
    "\n",
    "plt.tight_layout()\n",
    "plt.show()\n",
    "\n",
    "# Feature correlation analysis\n",
    "plt.figure(figsize=(12, 8))\n",
    "correlation_matrix = data.select_dtypes(include=[np.number]).corr()\n",
    "sns.heatmap(correlation_matrix, annot=False, cmap='coolwarm', center=0)\n",
    "plt.title('Feature Correlation Matrix')\n",
    "plt.show()"
   ]
  }
 ],
 "metadata": {
  "kernelspec": {
   "display_name": "ddos-detection",
   "language": "python",
   "name": "python3"
  },
  "language_info": {
   "codemirror_mode": {
    "name": "ipython",
    "version": 3
   },
   "file_extension": ".py",
   "mimetype": "text/x-python",
   "name": "python",
   "nbconvert_exporter": "python",
   "pygments_lexer": "ipython3",
   "version": "3.9.21"
  }
 },
 "nbformat": 4,
 "nbformat_minor": 2
}
